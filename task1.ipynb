{
 "metadata": {
  "language_info": {
   "codemirror_mode": {
    "name": "ipython",
    "version": 3
   },
   "file_extension": ".py",
   "mimetype": "text/x-python",
   "name": "python",
   "nbconvert_exporter": "python",
   "pygments_lexer": "ipython3",
   "version": "3.8.5-final"
  },
  "orig_nbformat": 2,
  "kernelspec": {
   "name": "python3",
   "display_name": "Python 3",
   "language": "python"
  }
 },
 "nbformat": 4,
 "nbformat_minor": 2,
 "cells": [
  {
   "cell_type": "code",
   "execution_count": 66,
   "metadata": {},
   "outputs": [],
   "source": [
    "import numpy as np \n",
    "import pandas as pd \n",
    "import matplotlib.pyplot as plt \n"
   ]
  },
  {
   "cell_type": "code",
   "execution_count": 67,
   "metadata": {},
   "outputs": [],
   "source": [
    "dfinfluence = pd.read_csv('input/influence_data.csv', encoding='unicode_escape')"
   ]
  },
  {
   "cell_type": "code",
   "execution_count": 68,
   "metadata": {},
   "outputs": [],
   "source": [
    "# print(dfinfluence)"
   ]
  },
  {
   "source": [
    "## 建立artists,记录全部艺术家"
   ],
   "cell_type": "markdown",
   "metadata": {}
  },
  {
   "cell_type": "code",
   "execution_count": 79,
   "metadata": {
    "tags": []
   },
   "outputs": [
    {
     "output_type": "stream",
     "name": "stdout",
     "text": [
      "index= 6644 id= 893383 , names=  The Muffs   The Kills\n",
      "index= 29381 id= 303506 , names=  Usher   Day26\n",
      "index= 37697 id= 957340 , names=  Helloween   Nightwish\n"
     ]
    }
   ],
   "source": [
    "artists = pd.DataFrame(columns= ['name', 'id', 'decade', 'genre'])\n",
    "name2art = {}\n",
    "id2art = {}\n",
    "# for index, row in df.iterrows():\n",
    "for index, row in dfinfluence.iterrows():\n",
    "    id = row['influencer_id']\n",
    "    name = row['influencer_name']\n",
    "    # if (id not in id2art) & (name in name2art):\n",
    "    #     print('name:', name)\n",
    "    #     # print(name2art)\n",
    "    #     artist = artists.loc[name2art[name]]\n",
    "    #     print(id, ' ', artist['id'])\n",
    "    # if (id in id2art) & (name not in name2art):\n",
    "    if id in id2art:\n",
    "        # print('id:', id)\n",
    "        artist = artists.loc[id2art[id]]\n",
    "        if artist['name'] != name:\n",
    "            print(\"index=\", index, \"id=\", id, \", names= \", artist['name'], ' ', name)\n",
    "        else:\n",
    "            continue\n",
    "    else:\n",
    "        artists.loc[artists.shape[0]] = [name, id, row['influencer_active_start'], row['influencer_main_genre']]\n",
    "    # artists.append([name, id], ignore_index=True)\n",
    "    # print(artists)\n",
    "    # name2art[name] = artists.shape[0] - 1\n",
    "        id2art[id] = artists.shape[0] - 1\n",
    "\n",
    "for index, row in dfinfluence.iterrows():\n",
    "    id = row['follower_id']\n",
    "    name = row['follower_name']\n",
    "    if id in id2art:\n",
    "        artist = artists.loc[id2art[id]]\n",
    "        if artist['name'] != name:\n",
    "            print(\"index=\", index, \"id= \", id, \"names= \", artist['name'], ' ', name)\n",
    "        else:\n",
    "            continue\n",
    "    else:\n",
    "        artists.loc[artists.shape[0]] = [name, id, row['follower_active_start'], row['follower_main_genre']]\n",
    "        id2art[id] = artists.shape[0] - 1\n"
   ]
  },
  {
   "source": [
    "## 修改有错误的数据"
   ],
   "cell_type": "markdown",
   "metadata": {}
  },
  {
   "cell_type": "code",
   "execution_count": 80,
   "metadata": {},
   "outputs": [
    {
     "output_type": "stream",
     "name": "stdout",
     "text": [
      "influencer_id                 957340\n",
      "influencer_name            Helloween\n",
      "influencer_main_genre       Pop/Rock\n",
      "influencer_active_start         1980\n",
      "follower_id                   868628\n",
      "follower_name              Nightwish\n",
      "follower_main_genre         Pop/Rock\n",
      "follower_active_start           1990\n",
      "Name: 37697, dtype: object\n",
      "influencer_id                     771438\n",
      "influencer_name            Black Sabbath\n",
      "influencer_main_genre           Pop/Rock\n",
      "influencer_active_start             1960\n",
      "follower_id                       868616\n",
      "follower_name                 Nickelback\n",
      "follower_main_genre             Pop/Rock\n",
      "follower_active_start               1990\n",
      "Name: 37687, dtype: object\n"
     ]
    }
   ],
   "source": [
    "dfinfluence_ = dfinfluence.copy()\n",
    "# print(dfinfluence_.loc[6644])\n",
    "dfinfluence_.at[6644, 'influencer_name'] = 'The Muffs'\n",
    "# print(dfinfluence_.loc[29381])\n",
    "dfinfluence_.at[29381, 'influencer_name'] = 'Usher'\n",
    "# print(dfinfluence_.loc[37697])\n",
    "dfinfluence_.at[37697, 'influencer_name'] = 'Helloween'\n",
    "print(dfinfluence_.loc[37697])\n",
    "print(dfinfluence.loc[37687])"
   ]
  },
  {
   "source": [
    "## 看看一共有多少个艺术家（主要的核查点）"
   ],
   "cell_type": "markdown",
   "metadata": {}
  },
  {
   "cell_type": "code",
   "execution_count": 81,
   "metadata": {},
   "outputs": [
    {
     "output_type": "stream",
     "name": "stdout",
     "text": [
      "(5603, 4)\n5603\n5603\n5568\n"
     ]
    }
   ],
   "source": [
    "# print(artists)\n",
    "print(artists.shape)\n",
    "print(len(id2art))\n",
    "\n",
    "## 核查可以从下面这些开始\n",
    "arr1 = dfinfluence['influencer_id'].unique()\n",
    "# print(len(arr1))\n",
    "# print(arr2)\n",
    "# print(arr1 + arr2)\n",
    "arr2 = dfinfluence['follower_id'].unique()\n",
    "# list(set(a) | set(b))\n",
    "arr = list(set(arr1) | set(arr2))\n",
    "print(len(arr))\n",
    "arr1 = dfinfluence['influencer_name'].unique()\n",
    "arr2 = dfinfluence['follower_name'].unique()\n",
    "arr = list(set(arr1) | set(arr2))\n",
    "print(len(arr))\n"
   ]
  },
  {
   "source": [
    "# 补充artist"
   ],
   "cell_type": "markdown",
   "metadata": {}
  },
  {
   "cell_type": "code",
   "execution_count": 82,
   "metadata": {},
   "outputs": [],
   "source": [
    "# df = pd.DataFrame({'A': [12, 23], 'B': [['a', 'b'], ['c', 'd']]})\n",
    "# print(df)\n"
   ]
  },
  {
   "source": [
    "## 补充图\n",
    "artists 中的`towards`和`from`中的值的类型$\\in$`artists.index`"
   ],
   "cell_type": "markdown",
   "metadata": {}
  },
  {
   "cell_type": "code",
   "execution_count": 83,
   "metadata": {
    "tags": []
   },
   "outputs": [
    {
     "output_type": "stream",
     "name": "stdout",
     "text": [
      "            name      id decade       genre  \\\n0  The Exploited  759491   1980    Pop/Rock   \n1         Tricky   25462   1990  Electronic   \n2      Bob Dylan   66915   1960    Pop/Rock   \n3  Leonard Cohen   71209   1950    Pop/Rock   \n4   The Gun Club   91438   1980    Pop/Rock   \n\n                                             towards  \\\n0  [3774, 3919, 1382, 1383, 1544, 211, 4530, 1364...   \n1  [489, 1626, 3130, 3545, 4169, 2966, 4367, 1539...   \n2  [489, 678, 42, 2692, 2816, 1888, 648, 276, 462...   \n3  [489, 3223, 840, 1889, 3949, 3682, 2657, 6, 24...   \n4  [489, 947, 3177, 714, 1831, 2954, 17, 1750, 5161]   \n\n                                                from  \n0  [680, 1171, 1359, 1315, 1838, 1599, 361, 1675,...  \n1  [777, 1005, 1006, 478, 1007, 1008, 228, 195, 1...  \n2  [1697, 1375, 1446, 1698, 1699, 233, 1700, 1447...  \n3  [2, 1486, 1757, 424, 1134, 1054, 480, 425, 673...  \n4  [679, 352, 152, 155, 1839, 868, 1568, 852, 194...  \n"
     ]
    }
   ],
   "source": [
    "# print(id2art)\n",
    "artists['towards'] = pd.Series([[]] * artists.shape[0], index = artists.index)\n",
    "artists['from'] = pd.Series([[]] * artists.shape[0], index = artists.index)\n",
    "# print(pd.Series([[]] * artists.shape[0]))\n",
    "# print(artists.head())\n",
    "# artists.at[1, 'from'] = [1]\n",
    "# print(artists.head())\n",
    "\n",
    "for index, row in dfinfluence_.iterrows():\n",
    "    iart_inf = id2art[row['influencer_id']]\n",
    "    iart_fol = id2art[row['follower_id']]\n",
    "    artists.at[iart_inf, 'towards'] = artists.at[iart_inf, 'towards'] + [iart_fol]\n",
    "    artists.at[iart_fol, 'from'] = artists.at[iart_fol, 'from'] + [iart_inf]\n",
    "\n",
    "print(artists.head())"
   ]
  },
  {
   "cell_type": "code",
   "execution_count": 84,
   "metadata": {},
   "outputs": [],
   "source": [
    "# print(artists.iloc[489])"
   ]
  },
  {
   "source": [
    "## 补充影响人数\n",
    "`influenced_numbers` 为一个artist的影响人数"
   ],
   "cell_type": "markdown",
   "metadata": {}
  },
  {
   "cell_type": "code",
   "execution_count": 95,
   "metadata": {
    "tags": []
   },
   "outputs": [
    {
     "output_type": "stream",
     "name": "stdout",
     "text": [
      "                         name      id decade       genre  \\\n0               The Exploited  759491   1980    Pop/Rock   \n1                      Tricky   25462   1990  Electronic   \n2                   Bob Dylan   66915   1960    Pop/Rock   \n3               Leonard Cohen   71209   1950    Pop/Rock   \n4                The Gun Club   91438   1980    Pop/Rock   \n5              Chrissie Hynde  113823   1970    Pop/Rock   \n6   Crime & the City Solution  132710   1980    Pop/Rock   \n7                 Lesley Gore  208582   1960    Pop/Rock   \n8              Massive Attack  378288   1980  Electronic   \n9                   Nick Cave  397880   1970    Pop/Rock   \n10              The Raincoats  489999   1970    Pop/Rock   \n11                 Pretenders  492331   1970    Pop/Rock   \n12                  Tom Waits  615119   1970    Pop/Rock   \n13         Marianne Faithfull  651107   1960    Pop/Rock   \n14                Patti Smith  747445   1970    Pop/Rock   \n15                Sonic Youth  755156   1980    Pop/Rock   \n16                   Pere Ubu  838272   1970    Pop/Rock   \n17                     Pixies  895136   1980    Pop/Rock   \n18                 The Smiths  899530   1980    Pop/Rock   \n19                          X  960690   1970    Pop/Rock   \n\n                                              towards  \\\n0   [3774, 3919, 1382, 1383, 1544, 211, 4530, 1364...   \n1   [489, 1626, 3130, 3545, 4169, 2966, 4367, 1539...   \n2   [489, 678, 42, 2692, 2816, 1888, 648, 276, 462...   \n3   [489, 3223, 840, 1889, 3949, 3682, 2657, 6, 24...   \n4   [489, 947, 3177, 714, 1831, 2954, 17, 1750, 5161]   \n5                  [489, 1747, 1027, 1028, 949, 4964]   \n6                                   [489, 3802, 2930]   \n7      [489, 2089, 2099, 4348, 770, 1291, 2968, 1607]   \n8   [489, 3602, 1626, 4000, 3545, 2986, 4273, 3000...   \n9   [489, 3012, 1390, 765, 3664, 2442, 1036, 2925,...   \n10  [489, 1747, 3268, 1095, 4275, 228, 717, 952, 1...   \n11  [489, 1079, 3489, 1747, 946, 1026, 947, 1027, ...   \n12  [489, 1888, 1, 2541, 840, 1889, 3336, 696, 395...   \n13  [489, 2620, 1027, 3509, 2732, 2438, 4348, 9, 1...   \n14  [489, 1747, 1987, 841, 1026, 947, 1027, 1028, ...   \n15  [489, 224, 1323, 631, 3826, 1747, 1179, 3855, ...   \n16  [489, 3802, 841, 1300, 3012, 4078, 1260, 574, ...   \n17  [489, 457, 1888, 3802, 1323, 3886, 3284, 842, ...   \n18  [489, 3792, 1323, 3822, 2199, 1357, 3887, 3890...   \n19  [489, 2913, 2271, 1358, 22, 1027, 1200, 2488, ...   \n\n                                                 from  influenced_numbers  \\\n0   [680, 1171, 1359, 1315, 1838, 1599, 361, 1675,...            1.965546   \n1   [777, 1005, 1006, 478, 1007, 1008, 228, 195, 1...            1.113818   \n2   [1697, 1375, 1446, 1698, 1699, 233, 1700, 1447...           39.992121   \n3   [2, 1486, 1757, 424, 1134, 1054, 480, 425, 673...            5.628317   \n4   [679, 352, 152, 155, 1839, 868, 1568, 852, 194...            0.541400   \n5   [2131, 850, 939, 481, 165, 325, 1441, 1122, 1342]            0.263584   \n6     [841, 3, 241, 1054, 868, 576, 481, 12, 67, 131]            0.166667   \n7                               [924, 770, 1438, 603]            0.745437   \n8   [749, 186, 808, 1053, 1006, 51, 193, 245, 745,...            4.078968   \n9   [2692, 2470, 573, 2, 3, 241, 424, 1187, 1054, ...            1.799172   \n10            [680, 182, 1115, 361, 14, 755, 149, 67]            0.868831   \n11  [1436, 98, 2, 680, 182, 2459, 609, 906, 50, 18...            3.071422   \n12  [2, 1564, 868, 1621, 1498, 3077, 452, 2067, 64...            4.376439   \n13                     [2, 1486, 241, 248, 1535, 131]            0.824607   \n14  [2, 241, 1564, 368, 50, 2732, 434, 54, 1060, 4...            4.014432   \n15  [42, 839, 1050, 573, 1841, 710, 22, 1052, 48, ...            5.404654   \n16  [2, 243, 50, 850, 868, 54, 1566, 1567, 60, 853...            2.149844   \n17  [98, 263, 1300, 4, 182, 1039, 55, 361, 844, 13...            5.910260   \n18  [678, 708, 839, 1171, 182, 1149, 638, 1549, 18...            6.580397   \n19  [679, 680, 241, 233, 1260, 80, 546, 361, 58, 6...            2.387122   \n\n    decade_artist  decade_genre_artist  next_decade_artist  \\\n0             951                  612                   0   \n1            1129                   90                   0   \n2             855                  410                   0   \n3             540                  103                   0   \n4             951                  612                   0   \n5             796                  419                   0   \n6             951                  612                   0   \n7             855                  410                   0   \n8             951                   37                   0   \n9             796                  419                   0   \n10            796                  419                   0   \n11            796                  419                   0   \n12            796                  419                   0   \n13            855                  410                   0   \n14            796                  419                   0   \n15            951                  612                   0   \n16            796                  419                   0   \n17            951                  612                   0   \n18            951                  612                   0   \n19            796                  419                   0   \n\n    next_decade_genre_artist  \n0                        0.0  \n1                        0.0  \n2                        0.0  \n3                        0.0  \n4                        0.0  \n5                        0.0  \n6                        0.0  \n7                        NaN  \n8                        NaN  \n9                        NaN  \n10                       NaN  \n11                       NaN  \n12                       NaN  \n13                       NaN  \n14                       NaN  \n15                       NaN  \n16                       NaN  \n17                       NaN  \n18                       NaN  \n19                       NaN  \n"
     ]
    }
   ],
   "source": [
    "artists['influenced_numbers'] = pd.Series([0] * artists.shape[0])\n",
    "for index, artist in artists.iterrows():\n",
    "    # 被多少人影响\n",
    "    arr = artist['from']\n",
    "    influencer_num = len(arr)\n",
    "    # print(influencer_num)\n",
    "    if influencer_num == 0:\n",
    "        continue \n",
    "    for influencer in arr:\n",
    "        # print(art_inf)\n",
    "        # print(arr)\n",
    "        artists.loc[influencer, 'influenced_numbers'] += 1 / influencer_num\n",
    "        # print('now:', artists.at[influencer, 'influenced_numbers'])\n",
    "\n",
    "print(artists.head(20))\n"
   ]
  },
  {
   "cell_type": "code",
   "execution_count": 116,
   "metadata": {},
   "outputs": [
    {
     "output_type": "stream",
     "name": "stdout",
     "text": [
      "                        name decade  influenced_numbers\n64               The Beatles   1960           72.915701\n2                  Bob Dylan   1960           39.992121\n131       The Rolling Stones   1960           28.950855\n481              David Bowie   1960           23.556406\n673            Hank Williams   1930           23.041072\n49              Led Zeppelin   1960           20.535912\n109              Miles Davis   1940           19.533789\n54              Jimi Hendrix   1960           18.587742\n480                Sam Cooke   1950           18.545972\n297           Charlie Parker   1930           18.196015\n234            Elvis Presley   1950           18.003767\n368              James Brown   1950           17.905301\n182                The Kinks   1960           17.543028\n98            The Beach Boys   1960           16.760319\n193              Marvin Gaye   1950           16.687324\n482                Brian Eno   1970           16.190051\n65             Black Sabbath   1960           15.964472\n198            Stevie Wonder   1960           15.485270\n233              Chuck Berry   1950           15.399031\n361              Sex Pistols   1970           15.138960\n67    The Velvet Underground   1960           14.574203\n253            John Coltrane   1940           14.505978\n646             Muddy Waters   1940           14.464307\n291           Billie Holiday   1930           14.383969\n700          Michael Jackson   1960           14.068527\n554                The Byrds   1960           13.564507\n1208           Woody Guthrie   1930           13.405776\n1004               Kraftwerk   1970           13.322020\n183                  The Who   1960           13.249938\n883             Louis Jordan   1930           13.010563\n868             Howlin' Wolf   1930           12.874340\n306              Ray Charles   1940           12.793840\n108               Pink Floyd   1960           12.725177\n680                The Clash   1970           12.574397\n55                Neil Young   1960           12.463770\n1091            Lester Young   1930           12.174578\n293          Dizzy Gillespie   1930           12.099164\n58                   Ramones   1970           12.032008\n676                Roy Acuff   1930           11.996866\n194                   Prince   1970           11.717735\n170        Charlie Christian   1930           11.641149\n372             Otis Redding   1960           11.469124\n546            Merle Haggard   1960           11.350978\n105            Frank Sinatra   1930           11.317953\n166              Johnny Cash   1950           10.878163\n201          Aretha Franklin   1950           10.618849\n1446             Bill Monroe   1940           10.570619\n485               Roxy Music   1970           10.364433\n28                 Metallica   1980           10.256020\n1158           Nat King Cole   1930           10.247574\n"
     ]
    }
   ],
   "source": [
    "print(artists.sort_values('influenced_numbers', ascending= False)[['name', 'decade', 'influenced_numbers']].head(50))"
   ]
  },
  {
   "source": [
    "### 发现那个影响人数极多的人正是Bob Dylan"
   ],
   "cell_type": "markdown",
   "metadata": {}
  },
  {
   "cell_type": "code",
   "execution_count": 96,
   "metadata": {},
   "outputs": [
    {
     "output_type": "stream",
     "name": "stdout",
     "text": [
      "[489, 678, 42, 2692, 2816, 1888, 648, 276, 462, 2440, 762, 1323, 3805, 695, 133, 839, 649, 1872, 1237, 1112, 2470, 3223, 605, 2823, 2199, 1292, 3192, 465, 97, 261, 1496, 1286, 946, 357, 1517, 834, 2223, 1368, 696, 382, 1300, 2767, 1486, 596, 3, 1070, 3949, 3954, 680, 466, 725, 902, 3973, 1487, 1970, 3249, 1824, 1800, 835, 2003, 2119, 606, 3232, 681, 2620, 1406, 650, 241, 884, 765, 424, 1407, 4073, 2459, 2903, 691, 1185, 282, 48, 661, 152, 113, 1582, 242, 2940, 608, 1248, 1238, 731, 4134, 703, 662, 4148, 885, 2786, 610, 574, 1293, 4163, 949, 2570, 1948, 1035, 905, 1054, 3534, 4202, 732, 1912, 3683, 613, 1055, 124, 1924, 941, 1769, 1503, 1884, 2794, 1045, 4249, 614, 799, 3042, 403, 3590, 1316, 1200, 1513, 1520, 849, 433, 1488, 733, 850, 3653, 2370, 640, 2438, 1429, 615, 2328, 425, 2651, 4364, 4368, 434, 1539, 836, 2217, 4381, 977, 2652, 2400, 4394, 616, 2412, 267, 4400, 1881, 192, 1116, 617, 734, 26, 2025, 2618, 134, 1504, 2745, 1162, 851, 471, 907, 472, 713, 473, 4433, 388, 1992, 1206, 1175, 1554, 2467, 714, 908, 1565, 108, 54, 1456, 618, 55, 4503, 4508, 1177, 1498, 9, 2100, 657, 1180, 2447, 1567, 2110, 389, 1391, 1925, 4567, 2318, 3441, 2096, 4601, 4602, 1644, 11, 766, 1145, 852, 1117, 3358, 1243, 2108, 3182, 2351, 2519, 928, 481, 1244, 4656, 2695, 1743, 4671, 4673, 1019, 979, 2769, 2662, 4692, 3737, 1552, 929, 2810, 1163, 1118, 1127, 1037, 1977, 271, 12, 4730, 2127, 3131, 198, 4744, 598, 970, 554, 4769, 4770, 2684, 13, 3628, 593, 4812, 286, 2933, 1020, 2827, 1489, 287, 527, 1667, 620, 4835, 1195, 2241, 736, 508, 1048, 14, 1010, 4880, 555, 392, 2685, 1065, 64, 1073, 3086, 1074, 3169, 1213, 2729, 854, 3039, 1814, 1033, 2622, 652, 2525, 722, 621, 2121, 4982, 4987, 1671, 288, 235, 1490, 1998, 1890, 706, 2650, 2697, 1744, 622, 1049, 837, 623, 1262, 380, 838, 2534, 5047, 1551, 2218, 2531, 2189, 1023, 16, 1617, 111, 67, 1209, 1121, 2542, 653, 1387, 2543, 1409, 3518, 2680, 624, 442, 5103, 5104, 2649, 37, 761, 2190, 1441, 131, 5140, 1182, 394, 1799, 556, 1342, 971, 5173, 2204, 2717, 528, 274, 724, 1556, 1842, 2698, 5210, 972, 5219, 2469, 275, 112, 20, 3686, 5247, 5254, 2811, 5291, 5326, 3135, 5339, 5364, 5392, 5410, 3758, 5502, 5566, 5597]\nname                                                                Bob Dylan\nid                                                                      66915\ndecade                                                                   1960\ngenre                                                                Pop/Rock\ntowards                     [489, 678, 42, 2692, 2816, 1888, 648, 276, 462...\nfrom                        [1697, 1375, 1446, 1698, 1699, 233, 1700, 1447...\ninfluenced_numbers                                                    39.9921\ndecade_artist                                                             855\ndecade_genre_artist                                                       410\nnext_decade_artist                                                          0\nnext_decade_genre_artist                                                    0\nName: 2, dtype: object\n"
     ]
    }
   ],
   "source": [
    "print(artists.loc[2, 'towards'])\n",
    "print(artists.iloc[2])"
   ]
  },
  {
   "source": [
    "## 得到每个年代的艺术家人数"
   ],
   "cell_type": "markdown",
   "metadata": {}
  },
  {
   "cell_type": "code",
   "execution_count": 97,
   "metadata": {},
   "outputs": [
    {
     "output_type": "stream",
     "name": "stdout",
     "text": [
      "1930     155\n1940     245\n1950     540\n1960     855\n1970     796\n1980     951\n1990    1129\n2000     728\n2010     204\nName: decade, dtype: int64\ndecade  genre         \n1990    Pop/Rock          665\n1980    Pop/Rock          612\n2000    Pop/Rock          480\n1970    Pop/Rock          419\n1960    Pop/Rock          410\n                         ... \n1990    Easy Listening      1\n2010    Classical           1\n        Easy Listening      1\n        Latin               1\n1970    Easy Listening      1\nLength: 144, dtype: int64\n"
     ]
    }
   ],
   "source": [
    "decade_artists = artists['decade'].value_counts()\n",
    "decade_artists = decade_artists.sort_index()\n",
    "print(decade_artists)\n",
    "decade_genre_artists = artists[['decade', 'genre']].value_counts()\n",
    "print(decade_genre_artists)"
   ]
  },
  {
   "source": [
    "### 整合到artists里"
   ],
   "cell_type": "markdown",
   "metadata": {}
  },
  {
   "cell_type": "code",
   "execution_count": 104,
   "metadata": {},
   "outputs": [
    {
     "output_type": "stream",
     "name": "stdout",
     "text": [
      "            name      id decade       genre  \\\n0  The Exploited  759491   1980    Pop/Rock   \n1         Tricky   25462   1990  Electronic   \n2      Bob Dylan   66915   1960    Pop/Rock   \n3  Leonard Cohen   71209   1950    Pop/Rock   \n4   The Gun Club   91438   1980    Pop/Rock   \n\n                                             towards  \\\n0  [3774, 3919, 1382, 1383, 1544, 211, 4530, 1364...   \n1  [489, 1626, 3130, 3545, 4169, 2966, 4367, 1539...   \n2  [489, 678, 42, 2692, 2816, 1888, 648, 276, 462...   \n3  [489, 3223, 840, 1889, 3949, 3682, 2657, 6, 24...   \n4  [489, 947, 3177, 714, 1831, 2954, 17, 1750, 5161]   \n\n                                                from  influenced_numbers  \\\n0  [680, 1171, 1359, 1315, 1838, 1599, 361, 1675,...            1.965546   \n1  [777, 1005, 1006, 478, 1007, 1008, 228, 195, 1...            1.113818   \n2  [1697, 1375, 1446, 1698, 1699, 233, 1700, 1447...           39.992121   \n3  [2, 1486, 1757, 424, 1134, 1054, 480, 425, 673...            5.628317   \n4  [679, 352, 152, 155, 1839, 868, 1568, 852, 194...            0.541400   \n\n   decade_artist  decade_genre_artist  next_decade_artist  \\\n0            951                  612                1129   \n1           1129                   90                 728   \n2            855                  410                 796   \n3            540                  103                 855   \n4            951                  612                1129   \n\n   next_decade_genre_artist  \n0                     665.0  \n1                      51.0  \n2                     419.0  \n3                     410.0  \n4                     665.0  \n"
     ]
    }
   ],
   "source": [
    "artists['decade_artist'] = pd.Series([0] * artists.shape[0])\n",
    "artists['decade_genre_artist'] = pd.Series([0] * artists.shape[0])\n",
    "artists['next_decade_artist'] = pd.Series([0] * artists.shape[0])\n",
    "artists['next_decade_genre_artist'] = pd.Series([0] * artist.shape[0])\n",
    "for index, row in artists.iterrows():\n",
    "    decade = row['decade']\n",
    "    genre = row['genre']\n",
    "    artists.loc[index, 'decade_artist'] = decade_artists[decade]\n",
    "    artists.loc[index, 'decade_genre_artist'] = decade_genre_artists[(decade, genre)]\n",
    "    next_decade = decade + 10\n",
    "    if next_decade in decade_artists.index:\n",
    "        artists.loc[index, 'next_decade_artist'] = decade_artists[next_decade]\n",
    "    else:\n",
    "        artists.loc[index, 'next_decade_artist'] = 0\n",
    "    if (next_decade, genre) in decade_genre_artists.index:\n",
    "        artists.loc[index, 'next_decade_genre_artist'] = decade_genre_artists[(next_decade, genre)]\n",
    "    else:\n",
    "        artists.loc[index, 'next_decade_genre_artist'] = 0\n",
    "print(artists.head())"
   ]
  },
  {
   "source": [
    "## 寻找Taylor Swift"
   ],
   "cell_type": "markdown",
   "metadata": {}
  },
  {
   "cell_type": "code",
   "execution_count": 117,
   "metadata": {},
   "outputs": [
    {
     "output_type": "stream",
     "name": "stdout",
     "text": [
      "name                                                             Taylor Swift\nid                                                                     472102\ndecade                                                                   2000\ngenre                                                                Pop/Rock\ntowards                                                                [5424]\nfrom                        [428, 595, 430, 431, 432, 78, 433, 2822, 3056,...\ninfluenced_numbers                                                        0.2\ndecade_artist                                                             728\ndecade_genre_artist                                                       480\nnext_decade_artist                                                        204\nnext_decade_genre_artist                                                  116\nName: 3657, dtype: object\n"
     ]
    }
   ],
   "source": [
    "idTS = id2art[472102]\n",
    "print(artists.iloc[idTS])"
   ]
  },
  {
   "cell_type": "code",
   "execution_count": 131,
   "metadata": {
    "tags": []
   },
   "outputs": [],
   "source": [
    "indexs = set()\n",
    "def dfs(artist, gen):\n",
    "    global indexs\n",
    "    # print(indexs)\n",
    "    if gen == -1:\n",
    "        return;\n",
    "    if artist in indexs:\n",
    "        return;\n",
    "    indexs.add(artist)\n",
    "    # print(artists.at[artist, 'towards'])\n",
    "    for next_artist in artists.at[artist, 'towards']:\n",
    "        dfs(next_artist, gen - 1)\n",
    "    for next_artist in artists.at[artist, 'from']:\n",
    "        dfs(next_artist, gen - 1)\n",
    "\n",
    "dfs(idTS, 4)\n"
   ]
  },
  {
   "cell_type": "code",
   "execution_count": 132,
   "metadata": {},
   "outputs": [
    {
     "output_type": "stream",
     "name": "stdout",
     "text": [
      "{2, 3, 4102, 9, 13, 15, 2089, 2090, 2099, 55, 64, 67, 69, 71, 72, 73, 74, 75, 76, 77, 78, 79, 80, 81, 82, 83, 2125, 2132, 4176, 93, 96, 97, 98, 2145, 101, 109, 112, 4237, 2189, 143, 2199, 2203, 166, 4263, 4272, 178, 180, 2235, 189, 194, 2279, 234, 2282, 4333, 248, 2301, 269, 4374, 4383, 288, 291, 292, 295, 300, 2354, 4407, 315, 342, 2404, 2405, 2406, 4456, 369, 377, 2426, 379, 388, 394, 2449, 2454, 2467, 428, 429, 430, 431, 432, 433, 434, 435, 437, 439, 441, 442, 2491, 4553, 490, 493, 495, 4592, 497, 502, 503, 504, 507, 2555, 2556, 523, 524, 2572, 2573, 527, 528, 2583, 544, 545, 546, 549, 4661, 2625, 2626, 579, 2628, 2638, 595, 596, 597, 598, 599, 600, 601, 602, 603, 604, 2653, 2652, 606, 611, 613, 614, 616, 617, 4735, 640, 2695, 2697, 650, 670, 671, 672, 673, 674, 675, 676, 677, 2749, 701, 703, 704, 2760, 2761, 4819, 2772, 2774, 729, 735, 736, 743, 4845, 2808, 4857, 765, 2814, 770, 2821, 2822, 775, 776, 782, 2840, 816, 820, 826, 827, 828, 829, 830, 4928, 832, 833, 854, 4955, 860, 2912, 865, 2925, 882, 4982, 902, 904, 906, 907, 909, 5015, 5020, 926, 929, 930, 934, 941, 2996, 2997, 955, 956, 5055, 960, 3009, 3007, 970, 3028, 985, 998, 3056, 1035, 1044, 1045, 1046, 1047, 1048, 1049, 1051, 1054, 1083, 5185, 1095, 1129, 5226, 1135, 1136, 1137, 5255, 1175, 1183, 5283, 1187, 1199, 1208, 5307, 5319, 1231, 1237, 1239, 3288, 1240, 1244, 1245, 5344, 5357, 1270, 1279, 5381, 1286, 1292, 3342, 1307, 1325, 5424, 1333, 5430, 1336, 1355, 1410, 5509, 1416, 5520, 1424, 1427, 5523, 1429, 1430, 1433, 1437, 1438, 1446, 1456, 3509, 1475, 1476, 1478, 5575, 1479, 1486, 3537, 1491, 1492, 5600, 1508, 3573, 1536, 3593, 1548, 3606, 3618, 1571, 1579, 1580, 1581, 1591, 3646, 3657, 3684, 1680, 1692, 3741, 1698, 1735, 1742, 3791, 1757, 1761, 3819, 3834, 1805, 3880, 1837, 1841, 1849, 1851, 1857, 1858, 3926, 1880, 1890, 1904, 1905, 3952, 1919, 1936, 1952, 1963, 1964, 1970, 2047}\n"
     ]
    }
   ],
   "source": [
    "print(indexs)"
   ]
  },
  {
   "source": [
    "## 输出给CC"
   ],
   "cell_type": "markdown",
   "metadata": {}
  },
  {
   "cell_type": "code",
   "execution_count": 133,
   "metadata": {},
   "outputs": [
    {
     "output_type": "stream",
     "name": "stdout",
     "text": [
      "                        name      id decade     genre  \\\n2                  Bob Dylan   66915   1960  Pop/Rock   \n3              Leonard Cohen   71209   1950  Pop/Rock   \n4102              BarlowGirl  139212   2000  Pop/Rock   \n9                  Nick Cave  397880   1970  Pop/Rock   \n13        Marianne Faithfull  651107   1960  Pop/Rock   \n...                      ...     ...    ...       ...   \n1952      Christina Aguilera  780258   1990  Pop/Rock   \n1963  Mother Maybelle Carter  337856   1950   Country   \n1964           Hank Thompson  947816   1940   Country   \n1970             Kevin Coyne   83859   1970  Pop/Rock   \n2047            Bobby Vinton  766066   1950     Vocal   \n\n                                                towards  \\\n2     [489, 678, 42, 2692, 2816, 1888, 648, 276, 462...   \n3     [489, 3223, 840, 1889, 3949, 3682, 2657, 6, 24...   \n4102                                                 []   \n9     [489, 3012, 1390, 765, 3664, 2442, 1036, 2925,...   \n13    [489, 2620, 1027, 3509, 2732, 2438, 4348, 9, 1...   \n...                                                 ...   \n1952  [3594, 4156, 4231, 4343, 3583, 4491, 3612, 463...   \n1963       [1433, 76, 904, 985, 4506, 2695, 2901, 5089]   \n1964  [1433, 905, 2245, 497, 81, 546, 2614, 501, 185...   \n1970    [1390, 1035, 4327, 3756, 720, 4845, 4971, 5346]   \n2047                           [2250, 2808, 4379, 1591]   \n\n                                                   from  influenced_numbers  \\\n2     [1697, 1375, 1446, 1698, 1699, 233, 1700, 1447...           39.992121   \n3     [2, 1486, 1757, 424, 1134, 1054, 480, 425, 673...            5.628317   \n4102  [2279, 1425, 382, 432, 614, 1538, 2103, 1540, ...            0.000000   \n9     [2692, 2470, 573, 2, 3, 241, 424, 1187, 1054, ...            1.799172   \n13                       [2, 1486, 241, 248, 1535, 131]            0.824607   \n...                                                 ...                 ...   \n1952  [1079, 114, 68, 405, 1343, 2063, 175, 291, 184...            2.768840   \n1963                                                 []            1.373611   \n1964                   [2313, 881, 671, 1762, 672, 676]            2.424469   \n1970                                      [2, 1565, 64]            0.786111   \n2047         [247, 93, 234, 1331, 1312, 821, 105, 1332]            0.235172   \n\n      decade_artist  decade_genre_artist  next_decade_artist  \\\n2               855                  410                 796   \n3               540                  103                 855   \n4102            728                  480                 204   \n9               796                  419                 951   \n13              855                  410                 796   \n...             ...                  ...                 ...   \n1952           1129                  665                 728   \n1963            540                   60                 855   \n1964            245                   32                 540   \n1970            796                  419                 951   \n2047            540                   39                 855   \n\n      next_decade_genre_artist  \n2                        419.0  \n3                        410.0  \n4102                     116.0  \n9                        612.0  \n13                       419.0  \n...                        ...  \n1952                     480.0  \n1963                      51.0  \n1964                      60.0  \n1970                     612.0  \n2047                      13.0  \n\n[342 rows x 11 columns]\n"
     ]
    }
   ],
   "source": [
    "# artists_print = artists.drop(['towards', 'from'], axis= 1)\n",
    "artists_print = artists.loc[indexs]\n",
    "print(artists_print)\n",
    "artists_print.to_csv('output/forCC.csv', index= False)"
   ]
  },
  {
   "cell_type": "code",
   "execution_count": null,
   "metadata": {},
   "outputs": [],
   "source": []
  }
 ]
}