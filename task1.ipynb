{
 "metadata": {
  "language_info": {
   "codemirror_mode": {
    "name": "ipython",
    "version": 3
   },
   "file_extension": ".py",
   "mimetype": "text/x-python",
   "name": "python",
   "nbconvert_exporter": "python",
   "pygments_lexer": "ipython3",
   "version": "3.8.5-final"
  },
  "orig_nbformat": 2,
  "kernelspec": {
   "name": "python3",
   "display_name": "Python 3",
   "language": "python"
  }
 },
 "nbformat": 4,
 "nbformat_minor": 2,
 "cells": [
  {
   "cell_type": "code",
   "execution_count": 1,
   "metadata": {},
   "outputs": [],
   "source": [
    "import numpy as np \n",
    "import pandas as pd \n",
    "import matplotlib.pyplot as plt \n"
   ]
  },
  {
   "cell_type": "code",
   "execution_count": 2,
   "metadata": {},
   "outputs": [],
   "source": [
    "dfinfluence = pd.read_csv('input/influence_data.csv', encoding='unicode_escape')"
   ]
  },
  {
   "cell_type": "code",
   "execution_count": 3,
   "metadata": {},
   "outputs": [],
   "source": [
    "# print(dfinfluence)"
   ]
  },
  {
   "source": [
    "## 建立artists,记录全部艺术家"
   ],
   "cell_type": "markdown",
   "metadata": {}
  },
  {
   "cell_type": "code",
   "execution_count": 4,
   "metadata": {
    "tags": []
   },
   "outputs": [
    {
     "output_type": "stream",
     "name": "stdout",
     "text": [
      "index= 6644 id= 893383 , names=  The Muffs   The Kills\n",
      "index= 29381 id= 303506 , names=  Usher   Day26\n",
      "index= 37697 id= 957340 , names=  Helloween   Nightwish\n"
     ]
    }
   ],
   "source": [
    "artists = pd.DataFrame(columns= ['name', 'id'])\n",
    "name2art = {}\n",
    "id2art = {}\n",
    "# for index, row in df.iterrows():\n",
    "for index, row in dfinfluence.iterrows():\n",
    "    id = row['influencer_id']\n",
    "    name = row['influencer_name']\n",
    "    # if (id not in id2art) & (name in name2art):\n",
    "    #     print('name:', name)\n",
    "    #     # print(name2art)\n",
    "    #     artist = artists.loc[name2art[name]]\n",
    "    #     print(id, ' ', artist['id'])\n",
    "    # if (id in id2art) & (name not in name2art):\n",
    "    if id in id2art:\n",
    "        # print('id:', id)\n",
    "        artist = artists.loc[id2art[id]]\n",
    "        if artist['name'] != name:\n",
    "            print(\"index=\", index, \"id=\", id, \", names= \", artist['name'], ' ', name)\n",
    "        else:\n",
    "            continue\n",
    "    else:\n",
    "        artists.loc[artists.shape[0]] = [name, id]\n",
    "    # artists.append([name, id], ignore_index=True)\n",
    "    # print(artists)\n",
    "    # name2art[name] = artists.shape[0] - 1\n",
    "        id2art[id] = artists.shape[0] - 1\n",
    "\n",
    "for index, row in dfinfluence.iterrows():\n",
    "    id = row['follower_id']\n",
    "    name = row['follower_name']\n",
    "    if id in id2art:\n",
    "        artist = artists.loc[id2art[id]]\n",
    "        if artist['name'] != name:\n",
    "            print(\"index=\", index, \"id= \", id, \"names= \", artist['name'], ' ', name)\n",
    "        else:\n",
    "            continue\n",
    "    else:\n",
    "        artists.loc[artists.shape[0]] = [name, id]\n",
    "        id2art[id] = artists.shape[0] - 1\n"
   ]
  },
  {
   "source": [
    "## 修改有错误的数据"
   ],
   "cell_type": "markdown",
   "metadata": {}
  },
  {
   "cell_type": "code",
   "execution_count": 6,
   "metadata": {},
   "outputs": [
    {
     "output_type": "stream",
     "name": "stdout",
     "text": [
      "influencer_id                 957340\ninfluencer_name            Helloween\ninfluencer_main_genre       Pop/Rock\ninfluencer_active_start         1980\nfollower_id                   868628\nfollower_name              Nightwish\nfollower_main_genre         Pop/Rock\nfollower_active_start           1990\nName: 37697, dtype: object\ninfluencer_id                     771438\ninfluencer_name            Black Sabbath\ninfluencer_main_genre           Pop/Rock\ninfluencer_active_start             1960\nfollower_id                       868616\nfollower_name                 Nickelback\nfollower_main_genre             Pop/Rock\nfollower_active_start               1990\nName: 37687, dtype: object\n"
     ]
    }
   ],
   "source": [
    "dfinfluence_ = dfinfluence.copy()\n",
    "# print(dfinfluence_.loc[6644])\n",
    "dfinfluence_.at[6644, 'influencer_name'] = 'The Muffs'\n",
    "# print(dfinfluence_.loc[29381])\n",
    "dfinfluence_.at[29381, 'influencer_name'] = 'Usher'\n",
    "# print(dfinfluence_.loc[37697])\n",
    "dfinfluence_.at[37697, 'influencer_name'] = 'Helloween'\n",
    "print(dfinfluence_.loc[37697])\n",
    "print(dfinfluence.loc[37687])"
   ]
  },
  {
   "source": [
    "## 看看一共有多少个艺术家（主要的核查点）"
   ],
   "cell_type": "markdown",
   "metadata": {}
  },
  {
   "cell_type": "code",
   "execution_count": 5,
   "metadata": {},
   "outputs": [
    {
     "output_type": "stream",
     "name": "stdout",
     "text": [
      "(5603, 2)\n",
      "5603\n",
      "5603\n",
      "5568\n"
     ]
    }
   ],
   "source": [
    "# print(artists)\n",
    "print(artists.shape)\n",
    "print(len(id2art))\n",
    "\n",
    "## 核查可以从下面这些开始\n",
    "arr1 = dfinfluence['influencer_id'].unique()\n",
    "# print(len(arr1))\n",
    "# print(arr2)\n",
    "# print(arr1 + arr2)\n",
    "arr2 = dfinfluence['follower_id'].unique()\n",
    "# list(set(a) | set(b))\n",
    "arr = list(set(arr1) | set(arr2))\n",
    "print(len(arr))\n",
    "arr1 = dfinfluence['influencer_name'].unique()\n",
    "arr2 = dfinfluence['follower_name'].unique()\n",
    "arr = list(set(arr1) | set(arr2))\n",
    "print(len(arr))\n"
   ]
  },
  {
   "source": [
    "## 补充artist"
   ],
   "cell_type": "markdown",
   "metadata": {}
  },
  {
   "cell_type": "code",
   "execution_count": 7,
   "metadata": {},
   "outputs": [],
   "source": [
    "# df = pd.DataFrame({'A': [12, 23], 'B': [['a', 'b'], ['c', 'd']]})\n",
    "# print(df)\n"
   ]
  },
  {
   "source": [
    "artists 中的`towards`和`from`中的值的类型$\\in$`artists.index`"
   ],
   "cell_type": "markdown",
   "metadata": {}
  },
  {
   "cell_type": "code",
   "execution_count": 33,
   "metadata": {
    "tags": []
   },
   "outputs": [
    {
     "output_type": "stream",
     "name": "stdout",
     "text": [
      "            name      id                                            towards  \\\n0  The Exploited  759491  [3774, 3919, 1382, 1383, 1544, 211, 4530, 1364...   \n1         Tricky   25462  [489, 1626, 3130, 3545, 4169, 2966, 4367, 1539...   \n2      Bob Dylan   66915  [489, 678, 42, 2692, 2816, 1888, 648, 276, 462...   \n3  Leonard Cohen   71209  [489, 3223, 840, 1889, 3949, 3682, 2657, 6, 24...   \n4   The Gun Club   91438  [489, 947, 3177, 714, 1831, 2954, 17, 1750, 5161]   \n\n                                                from  influenced_numbers  \n0  [680, 1171, 1359, 1315, 1838, 1599, 361, 1675,...                   2  \n1  [777, 1005, 1006, 478, 1007, 1008, 228, 195, 1...                   0  \n2  [1697, 1375, 1446, 1698, 1699, 233, 1700, 1447...                   1  \n3  [2, 1486, 1757, 424, 1134, 1054, 480, 425, 673...                   0  \n4  [679, 352, 152, 155, 1839, 868, 1568, 852, 194...                   0  \n"
     ]
    }
   ],
   "source": [
    "# print(id2art)\n",
    "artists['towards'] = pd.Series([[]] * artists.shape[0], index = artists.index)\n",
    "artists['from'] = pd.Series([[]] * artists.shape[0], index = artists.index)\n",
    "# print(pd.Series([[]] * artists.shape[0]))\n",
    "# print(artists.head())\n",
    "# artists.at[1, 'from'] = [1]\n",
    "# print(artists.head())\n",
    "\n",
    "for index, row in dfinfluence_.iterrows():\n",
    "    iart_inf = id2art[row['influencer_id']]\n",
    "    iart_fol = id2art[row['follower_id']]\n",
    "    artists.at[iart_inf, 'towards'] = artists.at[iart_inf, 'towards'] + [iart_fol]\n",
    "    artists.at[iart_fol, 'from'] = artists.at[iart_fol, 'from'] + [iart_inf]\n",
    "\n",
    "print(artists.head())"
   ]
  },
  {
   "cell_type": "code",
   "execution_count": 34,
   "metadata": {},
   "outputs": [],
   "source": [
    "# print(artists.iloc[489])"
   ]
  },
  {
   "source": [
    "`influenced_numbers` 为一个artist的影响人数"
   ],
   "cell_type": "markdown",
   "metadata": {}
  },
  {
   "cell_type": "code",
   "execution_count": 47,
   "metadata": {
    "tags": []
   },
   "outputs": [
    {
     "output_type": "stream",
     "name": "stdout",
     "text": [
      "                         name      id  \\\n0               The Exploited  759491   \n1                      Tricky   25462   \n2                   Bob Dylan   66915   \n3               Leonard Cohen   71209   \n4                The Gun Club   91438   \n5              Chrissie Hynde  113823   \n6   Crime & the City Solution  132710   \n7                 Lesley Gore  208582   \n8              Massive Attack  378288   \n9                   Nick Cave  397880   \n10              The Raincoats  489999   \n11                 Pretenders  492331   \n12                  Tom Waits  615119   \n13         Marianne Faithfull  651107   \n14                Patti Smith  747445   \n15                Sonic Youth  755156   \n16                   Pere Ubu  838272   \n17                     Pixies  895136   \n18                 The Smiths  899530   \n19                          X  960690   \n\n                                              towards  \\\n0   [3774, 3919, 1382, 1383, 1544, 211, 4530, 1364...   \n1   [489, 1626, 3130, 3545, 4169, 2966, 4367, 1539...   \n2   [489, 678, 42, 2692, 2816, 1888, 648, 276, 462...   \n3   [489, 3223, 840, 1889, 3949, 3682, 2657, 6, 24...   \n4   [489, 947, 3177, 714, 1831, 2954, 17, 1750, 5161]   \n5                  [489, 1747, 1027, 1028, 949, 4964]   \n6                                   [489, 3802, 2930]   \n7      [489, 2089, 2099, 4348, 770, 1291, 2968, 1607]   \n8   [489, 3602, 1626, 4000, 3545, 2986, 4273, 3000...   \n9   [489, 3012, 1390, 765, 3664, 2442, 1036, 2925,...   \n10  [489, 1747, 3268, 1095, 4275, 228, 717, 952, 1...   \n11  [489, 1079, 3489, 1747, 946, 1026, 947, 1027, ...   \n12  [489, 1888, 1, 2541, 840, 1889, 3336, 696, 395...   \n13  [489, 2620, 1027, 3509, 2732, 2438, 4348, 9, 1...   \n14  [489, 1747, 1987, 841, 1026, 947, 1027, 1028, ...   \n15  [489, 224, 1323, 631, 3826, 1747, 1179, 3855, ...   \n16  [489, 3802, 841, 1300, 3012, 4078, 1260, 574, ...   \n17  [489, 457, 1888, 3802, 1323, 3886, 3284, 842, ...   \n18  [489, 3792, 1323, 3822, 2199, 1357, 3887, 3890...   \n19  [489, 2913, 2271, 1358, 22, 1027, 1200, 2488, ...   \n\n                                                 from  influenced_numbers  \n0   [680, 1171, 1359, 1315, 1838, 1599, 361, 1675,...            1.965546  \n1   [777, 1005, 1006, 478, 1007, 1008, 228, 195, 1...            1.113818  \n2   [1697, 1375, 1446, 1698, 1699, 233, 1700, 1447...           39.992121  \n3   [2, 1486, 1757, 424, 1134, 1054, 480, 425, 673...            5.628317  \n4   [679, 352, 152, 155, 1839, 868, 1568, 852, 194...            0.541400  \n5   [2131, 850, 939, 481, 165, 325, 1441, 1122, 1342]            0.263584  \n6     [841, 3, 241, 1054, 868, 576, 481, 12, 67, 131]            0.166667  \n7                               [924, 770, 1438, 603]            0.745437  \n8   [749, 186, 808, 1053, 1006, 51, 193, 245, 745,...            4.078968  \n9   [2692, 2470, 573, 2, 3, 241, 424, 1187, 1054, ...            1.799172  \n10            [680, 182, 1115, 361, 14, 755, 149, 67]            0.868831  \n11  [1436, 98, 2, 680, 182, 2459, 609, 906, 50, 18...            3.071422  \n12  [2, 1564, 868, 1621, 1498, 3077, 452, 2067, 64...            4.376439  \n13                     [2, 1486, 241, 248, 1535, 131]            0.824607  \n14  [2, 241, 1564, 368, 50, 2732, 434, 54, 1060, 4...            4.014432  \n15  [42, 839, 1050, 573, 1841, 710, 22, 1052, 48, ...            5.404654  \n16  [2, 243, 50, 850, 868, 54, 1566, 1567, 60, 853...            2.149844  \n17  [98, 263, 1300, 4, 182, 1039, 55, 361, 844, 13...            5.910260  \n18  [678, 708, 839, 1171, 182, 1149, 638, 1549, 18...            6.580397  \n19  [679, 680, 241, 233, 1260, 80, 546, 361, 58, 6...            2.387122  \n"
     ]
    }
   ],
   "source": [
    "artists['influenced_numbers'] = pd.Series([0] * artists.shape[0])\n",
    "for index, artist in artists.iterrows():\n",
    "    # 被多少人影响\n",
    "    arr = artist['from']\n",
    "    influencer_num = len(arr)\n",
    "    # print(influencer_num)\n",
    "    if influencer_num == 0:\n",
    "        continue \n",
    "    for influencer in arr:\n",
    "        # print(art_inf)\n",
    "        # print(arr)\n",
    "        artists.loc[influencer, 'influenced_numbers'] += 1 / influencer_num\n",
    "        # print('now:', artists.at[influencer, 'influenced_numbers'])\n",
    "\n",
    "print(artists.head(20))"
   ]
  },
  {
   "cell_type": "code",
   "execution_count": null,
   "metadata": {},
   "outputs": [],
   "source": []
  }
 ]
}