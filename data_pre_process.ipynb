{
 "metadata": {
  "language_info": {
   "codemirror_mode": {
    "name": "ipython",
    "version": 3
   },
   "file_extension": ".py",
   "mimetype": "text/x-python",
   "name": "python",
   "nbconvert_exporter": "python",
   "pygments_lexer": "ipython3",
   "version": "3.8.5-final"
  },
  "orig_nbformat": 2,
  "kernelspec": {
   "name": "python3",
   "display_name": "Python 3",
   "language": "python"
  }
 },
 "nbformat": 4,
 "nbformat_minor": 2,
 "cells": [
  {
   "cell_type": "code",
   "execution_count": 16,
   "metadata": {},
   "outputs": [],
   "source": [
    "import numpy as np \n",
    "import pandas as pd \n",
    "import matplotlib.pyplot as plt \n"
   ]
  },
  {
   "cell_type": "code",
   "execution_count": 32,
   "metadata": {},
   "outputs": [],
   "source": [
    "dfmusic = pd.read_excel(\"input/full_music_data.xlsx\")\n"
   ]
  },
  {
   "cell_type": "code",
   "execution_count": 34,
   "metadata": {},
   "outputs": [
    {
     "output_type": "stream",
     "name": "stdout",
     "text": [
      "                artist_names artists_id  danceability  energy  valence  \\\n0      [\"Fat Freddy's Drop\"]   [178301]         0.600   0.365    0.131   \n1      [\"Fat Freddy's Drop\"]   [178301]         0.874   0.326    0.179   \n2      [\"Fat Freddy's Drop\"]   [178301]         0.670   0.531    0.336   \n3       [\"Alexander O'Neal\"]   [625201]         0.761   0.702    0.850   \n4       [\"Alexander O'Neal\"]   [625201]         0.661   0.828    0.902   \n...                      ...        ...           ...     ...      ...   \n98335             ['ZZ Top']   [690254]         0.276   0.892    0.715   \n98336             ['ZZ Top']   [690254]         0.700   0.592    0.906   \n98337             ['ZZ Top']   [690254]         0.709   0.709    0.863   \n98338             ['ZZ Top']   [690254]         0.552   0.651    0.533   \n98339             ['ZZ Top']   [690254]         0.546   0.864    0.863   \n\n         tempo  loudness  mode  key  acousticness  instrumentalness  liveness  \\\n0      130.046   -13.083     0    9       0.06720          0.585000    0.0921   \n1      119.620   -13.302     0   11       0.01360          0.148000    0.0993   \n2      139.385    -8.267     0    9       0.01560          0.345000    0.3060   \n3      104.773    -8.523     1    7       0.10800          0.000031    0.0935   \n4      115.078   -12.673     0   11       0.27600          0.000001    0.2870   \n...        ...       ...   ...  ...           ...               ...       ...   \n98335   80.475    -7.035     1   11       0.40900          0.000000    0.7140   \n98336  109.847   -10.434     1   11       0.10800          0.018400    0.1180   \n98337  111.544   -12.023     1    2       0.11800          0.000011    0.1250   \n98338  161.548   -10.624     0    4       0.00494          0.034900    0.1320   \n98339  145.652    -7.632     1    7       0.09080          0.008140    0.2770   \n\n       speechiness  explicit  duration_ms  popularity  year release_date  \\\n0           0.0498         0       437200          54  2005         2005   \n1           0.1310         0       581008          53  2005         2005   \n2           0.0377         0       431293          55  2009     8/7/2009   \n3           0.0389         0       304427          34  1991     1/1/1991   \n4           0.0390         0       264933          37  1987    7/29/1987   \n...            ...       ...          ...         ...   ...          ...   \n98335       0.0893         0       115973          33  1975    4/18/1975   \n98336       0.0681         0       263627          32  1976   11/29/1976   \n98337       0.0370         0       158400          31  1987         1987   \n98338       0.2290         0       232533          43  1992    4/13/1992   \n98339       0.0393         0       137240          43  2005    7/19/2005   \n\n                      song_title (censored)  \n0                                     Ernie  \n1                             Wandering Eye  \n2                                  The Raft  \n3                              All True Man  \n4      (What Can I Say) To Make You Love Me  \n...                                     ...  \n98335        Jailhouse Rock - **** Remaster  \n98336                        It's Only Love  \n98337                              Balinese  \n98338             La Grange - **** Remaster  \n98339                                  ****  \n\n[98340 rows x 19 columns]\n"
     ]
    }
   ],
   "source": [
    "print(dfmusic)\n"
   ]
  },
  {
   "cell_type": "code",
   "execution_count": 35,
   "metadata": {},
   "outputs": [
    {
     "output_type": "stream",
     "name": "stdout",
     "text": [
      "                artist_names artists_id  danceability   energy  valence  \\\n80720    ['Tangerine Dream']     [2411]         0.109  0.01570   0.0381   \n46016      ['John Williams']  [1535255]         0.259  0.09620   0.0429   \n20087         ['Chet Baker']    [94210]         0.381  0.02290   0.2530   \n95475  ['Vladimir Horowitz']   [119107]         0.566  0.00164   0.1660   \n95682  ['Vladimir Horowitz']   [119107]         0.566  0.00164   0.1660   \n\n         tempo  loudness  mode  key  acousticness  instrumentalness  liveness  \\\n80720   91.750   -28.469     0    2         0.996             0.993    0.0778   \n46016   66.128   -33.463     1    2         0.992             0.994    0.0969   \n20087  117.444   -20.827     1    8         0.989             0.989    0.1010   \n95475   82.699   -34.264     1   11         0.993             0.983    0.0861   \n95682   82.699   -34.264     1   11         0.993             0.983    0.0861   \n\n       speechiness  explicit  duration_ms  popularity  year release_date  \\\n80720       0.0397         0       141476          31  1974    2/20/1974   \n46016       0.0449         0        72680          44  2004    5/25/2004   \n20087       0.0397         0       167627           2  1953     7/1/1953   \n95475       0.0560         0        66640           0  1928         1928   \n95682       0.0560         0        66640           0  1928         1928   \n\n                         song_title (censored)  \\\n80720            Sequent 'C' - Remastered ****   \n46016                       The Patronus Light   \n20087         The Thrill Is Gone - *** LP Take   \n95475  Preludes: Op. *** No. 4 in E-Flat Minor   \n95682  Preludes: Op. *** No. 4 in E-Flat Minor   \n\n       acousticness + instrumentalness  \n80720                            1.989  \n46016                            1.986  \n20087                            1.978  \n95475                            1.976  \n95682                            1.976  \n               artist_names artists_id  danceability  energy  valence  tempo  \\\n21923    ['Connie Francis']   [117064]           0.0     0.0      0.0    0.0   \n21935    ['Connie Francis']   [117064]           0.0     0.0      0.0    0.0   \n74740     ['Sarah Vaughan']   [204901]           0.0     0.0      0.0    0.0   \n74861     ['Sarah Vaughan']   [204901]           0.0     0.0      0.0    0.0   \n72596  ['Robert Earl Keen']   [286561]           0.0     0.0      0.0    0.0   \n\n       loudness  mode  key  acousticness  instrumentalness  liveness  \\\n21923     -60.0     0    0           0.0               0.0       0.0   \n21935     -60.0     0    0           0.0               0.0       0.0   \n74740     -60.0     0    0           0.0               0.0       0.0   \n74861     -60.0     0    0           0.0               0.0       0.0   \n72596     -60.0     0    0           0.0               0.0       0.0   \n\n       speechiness  explicit  duration_ms  popularity  year release_date  \\\n21923          0.0         0       179466          12  1960     1/1/1960   \n21935          0.0         0       253719          12  1960     1/1/1960   \n74740          0.0         0         6467           0  1949         1949   \n74861          0.0         0         5108           0  1949         1949   \n72596          0.0         0        60372          35  1998   10/27/1998   \n\n      song_title (censored)  acousticness + instrumentalness  \n21923          Hava Nagilah                              0.0  \n21935     My ******** Momme                              0.0  \n74740           Pause Track                              0.0  \n74861           Pause Track                              0.0  \n72596          Silent Track                              0.0  \n"
     ]
    }
   ],
   "source": [
    "dfmusic['acousticness + instrumentalness'] = dfmusic['acousticness'] + dfmusic['instrumentalness']\n",
    "dfmusic1 = dfmusic.sort_values(by='acousticness + instrumentalness',ascending=False)\n",
    "print(dfmusic1.head())\n",
    "print(dfmusic1.tail())\n"
   ]
  },
  {
   "cell_type": "code",
   "execution_count": 36,
   "metadata": {},
   "outputs": [
    {
     "output_type": "stream",
     "name": "stdout",
     "text": [
      "                 artist_names artists_id  danceability  energy  valence  \\\n66564           ['Pat Green']   [134761]         0.548   0.754   0.5120   \n11076            ['Bee Gees']    [43714]         0.751   0.746   0.3040   \n56838                ['Man谩']   [673621]         0.596   0.707   0.4300   \n68608          ['Pink Floyd']   [346336]         0.295   0.294   0.0603   \n23631  ['Dave Matthews Band']   [961234]         0.509   0.632   0.3480   \n\n         tempo  loudness  mode  key  acousticness  ...  liveness  speechiness  \\\n66564  129.699    -4.815     1    7        0.0161  ...     0.995       0.0269   \n11076  105.980    -7.002     1   11        0.0965  ...     0.996       0.0290   \n56838  132.211    -6.401     1    7        0.1640  ...     0.990       0.0269   \n68608   59.602   -15.308     1    5        0.5990  ...     0.995       0.0340   \n23631  113.910    -7.144     0    4        0.1730  ...     0.995       0.0341   \n\n       explicit  duration_ms  popularity  year  release_date  \\\n66564         0       227333          32  1999      7/4/1999   \n11076         0       226467          56  1998      1/1/1998   \n56838         0       344584          50  1999     5/14/1999   \n68608         0       352000          44  1995          1995   \n23631         0       652707          38  2003    11/18/2003   \n\n                                   song_title (censored)  \\\n66564                       Take Me Out To The Dancehall   \n11076  Islands In The Stream - Live At The MGM ******...   \n56838                         Vivir Sin Aire - Unplugged   \n68608                    The Great Gig in the Sky - Live   \n23631  Cortez, the ****** - Live at Central Park, New...   \n\n      acousticness + instrumentalness  liveness - speechiness  \n66564                        0.016100                  0.9681  \n11076                        0.096503                  0.9670  \n56838                        0.165960                  0.9631  \n68608                        0.850000                  0.9610  \n23631                        0.179130                  0.9609  \n\n[5 rows x 21 columns]\n               artist_names artists_id  danceability  energy  valence  \\\n45164     ['John Hartford']   [221603]         0.642   0.213    0.360   \n1619   ['Shel Silverstein']    [20319]         0.721   0.297    0.627   \n48344     ['Julie Andrews']   [314113]         0.761   0.264    0.599   \n19940    ['Cheech & Chong']   [106298]         0.681   0.407    0.110   \n59238        ['Mel Brooks']   [342833]         0.627   0.334    0.711   \n\n         tempo  loudness  mode  key  acousticness  ...  liveness  speechiness  \\\n45164   86.920   -18.652     1    1         0.815  ...    0.0630        0.889   \n1619    76.677   -15.650     1    2         0.723  ...    0.1100        0.946   \n48344  124.439   -18.554     1    8         0.889  ...    0.0751        0.914   \n19940   80.179   -19.488     1   11         0.403  ...    0.1040        0.943   \n59238   73.273   -17.939     0    9         0.919  ...    0.1010        0.958   \n\n       explicit  duration_ms  popularity  year  release_date  \\\n45164         0       101907          20  1971          1971   \n1619          0        78000          21  1984          1984   \n48344         0       128440          38  1997      1/1/1997   \n19940         0        83693          24  1978          1978   \n59238         0       147880          21  1972          1972   \n\n                                   song_title (censored)  \\\n45164                                             Boogie   \n1619                               Crocodile's Toothache   \n48344  A British Bank (The Life I Lead) - From \"Mary ...   \n19940                                               Dave   \n59238                                     Boy Meets ****   \n\n      acousticness + instrumentalness  liveness - speechiness  \n45164                           0.815                 -0.8260  \n1619                            0.723                 -0.8360  \n48344                           0.889                 -0.8389  \n19940                           0.403                 -0.8390  \n59238                           0.919                 -0.8570  \n\n[5 rows x 21 columns]\n"
     ]
    }
   ],
   "source": [
    "dfmusic['liveness - speechiness'] = dfmusic['liveness'] - dfmusic['speechiness']\n",
    "dfmusic2 = dfmusic.sort_values(by= 'liveness - speechiness', ascending = False)\n",
    "print(dfmusic2.head())\n",
    "print(dfmusic2.tail())\n"
   ]
  },
  {
   "cell_type": "code",
   "execution_count": 37,
   "metadata": {},
   "outputs": [
    {
     "output_type": "stream",
     "name": "stdout",
     "text": [
      "                             artist_names          artists_id  danceability  \\\n90762                      ['The Weeknd']           [2674162]         0.514   \n2285   ['Ariana Grande', 'Justin Bieber']  [2264745, 2165952]         0.597   \n51186      ['Lady Gaga', 'Ariana Grande']   [994823, 2264745]         0.672   \n27918                        ['Dua Lipa']           [3426731]         0.794   \n11652                         ['Beyonc茅']            [761179]         0.822   \n57857                        ['Maroon 5']            [285232]         0.764   \n12345                   ['Billie Eilish']           [3475903]         0.701   \n90763                      ['The Weeknd']           [2674162]         0.667   \n12344                   ['Billie Eilish']           [3475903]         0.704   \n27922                        ['Dua Lipa']           [3426731]         0.730   \n\n       energy  valence    tempo  loudness  mode  key  acousticness  ...  \\\n90762   0.730    0.334  171.005    -5.934     1    1       0.00146  ...   \n2285    0.450    0.537  178.765    -6.658     1    8       0.22300  ...   \n51186   0.855    0.646  123.056    -3.764     1    9       0.02100  ...   \n27918   0.793    0.677  123.941    -4.521     0   11       0.01250  ...   \n11652   0.743    0.636   84.459    -4.772     0   10       0.01600  ...   \n57857   0.320    0.575   91.019    -7.209     1   11       0.83700  ...   \n12345   0.425    0.562  135.128   -10.965     1    7       0.32800  ...   \n90763   0.719    0.717  100.021    -5.371     0    7       0.00285  ...   \n12344   0.225    0.243  120.006   -14.454     0    6       0.90200  ...   \n27922   0.729    0.467  113.012    -3.434     0    4       0.16700  ...   \n\n       liveness  speechiness  explicit  duration_ms  popularity  year  \\\n90762    0.0897       0.0598         0       200040         100  2020   \n2285     0.3820       0.0418         0       228482          94  2020   \n51186    0.3230       0.0397         0       182200          94  2020   \n27918    0.0952       0.0842         0       183290          93  2019   \n11652    0.1270       0.2800         1       242001          92  2020   \n57857    0.0822       0.0546         0       189486          91  2019   \n12345    0.1000       0.3750         0       194088          91  2019   \n90763    0.0736       0.0346         1       237520          91  2020   \n12344    0.1060       0.0994         0       245426          90  2019   \n27922    0.3490       0.0886         0       221820          90  2020   \n\n       release_date              song_title (censored)  \\\n90762     3/20/2020                    Blinding Lights   \n2285       5/8/2020  Stuck with U (with Justin Bieber)   \n51186     5/22/2020    Rain On Me (with ****** Grande)   \n27918    10/31/2019                    Don't Start Now   \n11652     4/29/2020       ****** Remix (feat. Beyonc茅)   \n57857     9/20/2019                           Memories   \n12345     3/29/2019                            bad guy   \n90763     3/20/2020                       In Your Eyes   \n12344    11/13/2019                everything i wanted   \n27922     3/27/2020                     Break My Heart   \n\n      acousticness + instrumentalness  liveness - speechiness  \n90762                        0.001555                  0.0299  \n2285                         0.223000                  0.3402  \n51186                        0.021000                  0.2833  \n27918                        0.012500                  0.0110  \n11652                        0.016000                 -0.1530  \n57857                        0.837000                  0.0276  \n12345                        0.458000                 -0.2750  \n90763                        0.002931                  0.0390  \n12344                        1.559000                  0.0066  \n27922                        0.167001                  0.2604  \n\n[10 rows x 21 columns]\n"
     ]
    }
   ],
   "source": [
    "dfmusic3 = dfmusic.sort_values(by = 'popularity', ascending = False)\n",
    "print(dfmusic3.head(10))"
   ]
  },
  {
   "cell_type": "code",
   "execution_count": 39,
   "metadata": {},
   "outputs": [
    {
     "output_type": "stream",
     "name": "stdout",
     "text": [
      "                                 danceability    energy   valence     tempo  \\\ndanceability                         1.000000  0.142673  0.563269 -0.081781   \nenergy                               0.142673  1.000000  0.357765  0.244911   \nvalence                              0.563269  0.357765  1.000000  0.147735   \ntempo                               -0.081781  0.244911  0.147735  1.000000   \nloudness                             0.198258  0.785392  0.266063  0.191536   \nmode                                -0.032531 -0.035604  0.019892  0.014785   \nkey                                  0.014546  0.030048  0.015796  0.003219   \nacousticness                        -0.173847 -0.757295 -0.220866 -0.202096   \ninstrumentalness                    -0.213578 -0.198266 -0.186369 -0.071448   \nliveness                            -0.130159  0.155841 -0.010864  0.027363   \nspeechiness                          0.079843  0.138154  0.033773  0.052679   \nexplicit                             0.053987  0.151291 -0.046125  0.016249   \nduration_ms                         -0.094007  0.033007 -0.183020 -0.020252   \npopularity                           0.183133  0.389819  0.020748  0.094173   \nyear                                 0.168857  0.471237 -0.027423  0.113262   \nacousticness + instrumentalness     -0.243615 -0.655169 -0.262375 -0.185123   \nliveness - speechiness              -0.162810  0.099345 -0.024675  0.005820   \n\n                                 loudness      mode       key  acousticness  \\\ndanceability                     0.198258 -0.032531  0.014546     -0.173847   \nenergy                           0.785392 -0.035604  0.030048     -0.757295   \nvalence                          0.266063  0.019892  0.015796     -0.220866   \ntempo                            0.191536  0.014785  0.003219     -0.202096   \nloudness                         1.000000 -0.009529  0.019337     -0.594767   \nmode                            -0.009529  1.000000 -0.113424      0.039097   \nkey                              0.019337 -0.113424  1.000000     -0.028757   \nacousticness                    -0.594767  0.039097 -0.028757      1.000000   \ninstrumentalness                -0.360611 -0.057961 -0.010870      0.217982   \nliveness                         0.072013  0.014083  0.000288     -0.041249   \nspeechiness                      0.049345 -0.045230  0.024423     -0.027980   \nexplicit                         0.159968 -0.049379  0.009059     -0.154578   \nduration_ms                     -0.023973 -0.083376 -0.004520     -0.104918   \npopularity                       0.420300 -0.036295  0.015031     -0.477451   \nyear                             0.484316 -0.039637  0.020674     -0.557845   \nacousticness + instrumentalness -0.628200 -0.003999 -0.026732      0.840836   \nliveness - speechiness           0.051834  0.032580 -0.009700     -0.029808   \n\n                                 instrumentalness  liveness  speechiness  \\\ndanceability                            -0.213578 -0.130159     0.079843   \nenergy                                  -0.198266  0.155841     0.138154   \nvalence                                 -0.186369 -0.010864     0.033773   \ntempo                                   -0.071448  0.027363     0.052679   \nloudness                                -0.360611  0.072013     0.049345   \nmode                                    -0.057961  0.014083    -0.045230   \nkey                                     -0.010870  0.000288     0.024423   \nacousticness                             0.217982 -0.041249    -0.027980   \ninstrumentalness                         1.000000 -0.036830    -0.063210   \nliveness                                -0.036830  1.000000     0.204467   \nspeechiness                             -0.063210  0.204467     1.000000   \nexplicit                                -0.051090  0.026827     0.194433   \nduration_ms                              0.115348  0.061367    -0.018135   \npopularity                              -0.216110 -0.064326    -0.006928   \nyear                                    -0.198669 -0.029677     0.043509   \nacousticness + instrumentalness          0.711560 -0.050124    -0.055202   \nliveness - speechiness                  -0.010981  0.916387    -0.204466   \n\n                                 explicit  duration_ms  popularity      year  \\\ndanceability                     0.053987    -0.094007    0.183133  0.168857   \nenergy                           0.151291     0.033007    0.389819  0.471237   \nvalence                         -0.046125    -0.183020    0.020748 -0.027423   \ntempo                            0.016249    -0.020252    0.094173  0.113262   \nloudness                         0.159968    -0.023973    0.420300  0.484316   \nmode                            -0.049379    -0.083376   -0.036295 -0.039637   \nkey                              0.009059    -0.004520    0.015031  0.020674   \nacousticness                    -0.154578    -0.104918   -0.477451 -0.557845   \ninstrumentalness                -0.051090     0.115348   -0.216110 -0.198669   \nliveness                         0.026827     0.061367   -0.064326 -0.029677   \nspeechiness                      0.194433    -0.018135   -0.006928  0.043509   \nexplicit                         1.000000    -0.000544    0.183029  0.232257   \nduration_ms                     -0.000544     1.000000    0.057150  0.073275   \npopularity                       0.183029     0.057150    1.000000  0.775415   \nyear                             0.232257     0.073275    0.775415  1.000000   \nacousticness + instrumentalness -0.139623    -0.011559   -0.463595 -0.511801   \nliveness - speechiness          -0.052683     0.068782   -0.061492 -0.047469   \n\n                                 acousticness + instrumentalness  \\\ndanceability                                           -0.243615   \nenergy                                                 -0.655169   \nvalence                                                -0.262375   \ntempo                                                  -0.185123   \nloudness                                               -0.628200   \nmode                                                   -0.003999   \nkey                                                    -0.026732   \nacousticness                                            0.840836   \ninstrumentalness                                        0.711560   \nliveness                                               -0.050124   \nspeechiness                                            -0.055202   \nexplicit                                               -0.139623   \nduration_ms                                            -0.011559   \npopularity                                             -0.463595   \nyear                                                   -0.511801   \nacousticness + instrumentalness                         1.000000   \nliveness - speechiness                                 -0.027550   \n\n                                 liveness - speechiness  \ndanceability                                  -0.162810  \nenergy                                         0.099345  \nvalence                                       -0.024675  \ntempo                                          0.005820  \nloudness                                       0.051834  \nmode                                           0.032580  \nkey                                           -0.009700  \nacousticness                                  -0.029808  \ninstrumentalness                              -0.010981  \nliveness                                       0.916387  \nspeechiness                                   -0.204466  \nexplicit                                      -0.052683  \nduration_ms                                    0.068782  \npopularity                                    -0.061492  \nyear                                          -0.047469  \nacousticness + instrumentalness               -0.027550  \nliveness - speechiness                         1.000000  \n"
     ]
    }
   ],
   "source": [
    "dfmusic_num = dfmusic.drop(['artist_names', 'artists_id', 'release_date'], axis = 1)\n",
    "print(dfmusic_num.corr())"
   ]
  },
  {
   "source": [
    "$$\n",
    "prod =  v^T  W v\n",
    "$$\n"
   ],
   "cell_type": "markdown",
   "metadata": {}
  },
  {
   "cell_type": "code",
   "execution_count": null,
   "metadata": {},
   "outputs": [],
   "source": []
  }
 ]
}