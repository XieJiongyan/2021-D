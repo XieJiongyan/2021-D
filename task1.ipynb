{
 "metadata": {
  "language_info": {
   "codemirror_mode": {
    "name": "ipython",
    "version": 3
   },
   "file_extension": ".py",
   "mimetype": "text/x-python",
   "name": "python",
   "nbconvert_exporter": "python",
   "pygments_lexer": "ipython3",
   "version": "3.8.5-final"
  },
  "orig_nbformat": 2,
  "kernelspec": {
   "name": "python3",
   "display_name": "Python 3",
   "language": "python"
  }
 },
 "nbformat": 4,
 "nbformat_minor": 2,
 "cells": [
  {
   "cell_type": "code",
   "execution_count": 1,
   "metadata": {},
   "outputs": [],
   "source": [
    "import numpy as np \n",
    "import pandas as pd \n",
    "import matplotlib.pyplot as plt \n"
   ]
  },
  {
   "cell_type": "code",
   "execution_count": 2,
   "metadata": {},
   "outputs": [],
   "source": [
    "dfinfluence = pd.read_csv('input/influence_data.csv', encoding='unicode_escape')"
   ]
  },
  {
   "cell_type": "code",
   "execution_count": 3,
   "metadata": {},
   "outputs": [],
   "source": [
    "# print(dfinfluence)"
   ]
  },
  {
   "source": [
    "## 建立artists,记录全部艺术家"
   ],
   "cell_type": "markdown",
   "metadata": {}
  },
  {
   "cell_type": "code",
   "execution_count": 4,
   "metadata": {
    "tags": []
   },
   "outputs": [
    {
     "output_type": "stream",
     "name": "stdout",
     "text": [
      "index= 6644 id= 893383 , names=  The Muffs   The Kills\n",
      "index= 29381 id= 303506 , names=  Usher   Day26\n",
      "index= 37697 id= 957340 , names=  Helloween   Nightwish\n"
     ]
    }
   ],
   "source": [
    "artists = pd.DataFrame(columns= ['name', 'id'])\n",
    "name2art = {}\n",
    "id2art = {}\n",
    "# for index, row in df.iterrows():\n",
    "for index, row in dfinfluence.iterrows():\n",
    "    id = row['influencer_id']\n",
    "    name = row['influencer_name']\n",
    "    # if (id not in id2art) & (name in name2art):\n",
    "    #     print('name:', name)\n",
    "    #     # print(name2art)\n",
    "    #     artist = artists.loc[name2art[name]]\n",
    "    #     print(id, ' ', artist['id'])\n",
    "    # if (id in id2art) & (name not in name2art):\n",
    "    if id in id2art:\n",
    "        # print('id:', id)\n",
    "        artist = artists.loc[id2art[id]]\n",
    "        if artist['name'] != name:\n",
    "            print(\"index=\", index, \"id=\", id, \", names= \", artist['name'], ' ', name)\n",
    "        else:\n",
    "            continue\n",
    "    else:\n",
    "        artists.loc[artists.shape[0]] = [name, id]\n",
    "    # artists.append([name, id], ignore_index=True)\n",
    "    # print(artists)\n",
    "    # name2art[name] = artists.shape[0] - 1\n",
    "        id2art[id] = artists.shape[0] - 1\n",
    "\n",
    "for index, row in dfinfluence.iterrows():\n",
    "    id = row['follower_id']\n",
    "    name = row['follower_name']\n",
    "    if id in id2art:\n",
    "        artist = artists.loc[id2art[id]]\n",
    "        if artist['name'] != name:\n",
    "            print(\"index=\", index, \"id= \", id, \"names= \", artist['name'], ' ', name)\n",
    "        else:\n",
    "            continue\n",
    "    else:\n",
    "        artists.loc[artists.shape[0]] = [name, id]\n",
    "        id2art[id] = artists.shape[0] - 1\n"
   ]
  },
  {
   "source": [
    "## 修改有错误的数据"
   ],
   "cell_type": "markdown",
   "metadata": {}
  },
  {
   "cell_type": "code",
   "execution_count": 6,
   "metadata": {},
   "outputs": [
    {
     "output_type": "stream",
     "name": "stdout",
     "text": [
      "influencer_id                 957340\ninfluencer_name            Helloween\ninfluencer_main_genre       Pop/Rock\ninfluencer_active_start         1980\nfollower_id                   868628\nfollower_name              Nightwish\nfollower_main_genre         Pop/Rock\nfollower_active_start           1990\nName: 37697, dtype: object\ninfluencer_id                     771438\ninfluencer_name            Black Sabbath\ninfluencer_main_genre           Pop/Rock\ninfluencer_active_start             1960\nfollower_id                       868616\nfollower_name                 Nickelback\nfollower_main_genre             Pop/Rock\nfollower_active_start               1990\nName: 37687, dtype: object\n"
     ]
    }
   ],
   "source": [
    "dfinfluence_ = dfinfluence.copy()\n",
    "# print(dfinfluence_.loc[6644])\n",
    "dfinfluence_.at[6644, 'influencer_name'] = 'The Muffs'\n",
    "# print(dfinfluence_.loc[29381])\n",
    "dfinfluence_.at[29381, 'influencer_name'] = 'Usher'\n",
    "# print(dfinfluence_.loc[37697])\n",
    "dfinfluence_.at[37697, 'influencer_name'] = 'Helloween'\n",
    "print(dfinfluence_.loc[37697])\n",
    "print(dfinfluence.loc[37687])"
   ]
  },
  {
   "source": [
    "## 看看一共有多少个艺术家（主要的核查点）"
   ],
   "cell_type": "markdown",
   "metadata": {}
  },
  {
   "cell_type": "code",
   "execution_count": 5,
   "metadata": {},
   "outputs": [
    {
     "output_type": "stream",
     "name": "stdout",
     "text": [
      "(5603, 2)\n",
      "5603\n",
      "5603\n",
      "5568\n"
     ]
    }
   ],
   "source": [
    "# print(artists)\n",
    "print(artists.shape)\n",
    "print(len(id2art))\n",
    "\n",
    "## 核查可以从下面这些开始\n",
    "arr1 = dfinfluence['influencer_id'].unique()\n",
    "# print(len(arr1))\n",
    "# print(arr2)\n",
    "# print(arr1 + arr2)\n",
    "arr2 = dfinfluence['follower_id'].unique()\n",
    "# list(set(a) | set(b))\n",
    "arr = list(set(arr1) | set(arr2))\n",
    "print(len(arr))\n",
    "arr1 = dfinfluence['influencer_name'].unique()\n",
    "arr2 = dfinfluence['follower_name'].unique()\n",
    "arr = list(set(arr1) | set(arr2))\n",
    "print(len(arr))\n"
   ]
  },
  {
   "source": [
    "## 补充artist"
   ],
   "cell_type": "markdown",
   "metadata": {}
  },
  {
   "cell_type": "code",
   "execution_count": 7,
   "metadata": {},
   "outputs": [],
   "source": [
    "# df = pd.DataFrame({'A': [12, 23], 'B': [['a', 'b'], ['c', 'd']]})\n",
    "# print(df)\n"
   ]
  },
  {
   "source": [
    "artists 中的`towards`和`from`中的值的类型$\\in$`artists.index`"
   ],
   "cell_type": "markdown",
   "metadata": {}
  },
  {
   "cell_type": "code",
   "execution_count": 8,
   "metadata": {
    "tags": []
   },
   "outputs": [
    {
     "output_type": "stream",
     "name": "stdout",
     "text": [
      "            name      id                                            towards  \\\n0  The Exploited  759491  [3774, 3919, 1382, 1383, 1544, 211, 4530, 1364...   \n1         Tricky   25462  [489, 1626, 3130, 3545, 4169, 2966, 4367, 1539...   \n2      Bob Dylan   66915  [489, 678, 42, 2692, 2816, 1888, 648, 276, 462...   \n3  Leonard Cohen   71209  [489, 3223, 840, 1889, 3949, 3682, 2657, 6, 24...   \n4   The Gun Club   91438  [489, 947, 3177, 714, 1831, 2954, 17, 1750, 5161]   \n\n     from  \n0  [1676]  \n1   [860]  \n2  [1704]  \n3   [166]  \n4   [166]  \n"
     ]
    }
   ],
   "source": [
    "# print(id2art)\n",
    "artists['towards'] = pd.Series([[]] * artists.shape[0], index = artists.index)\n",
    "artists['from'] = pd.Series([[]] * artists.shape[0], index = artists.index)\n",
    "# print(pd.Series([[]] * artists.shape[0]))\n",
    "# print(artists.head())\n",
    "# artists.at[1, 'from'] = [1]\n",
    "# print(artists.head())\n",
    "\n",
    "for index, row in dfinfluence_.iterrows():\n",
    "    iart_inf = id2art[row['influencer_id']]\n",
    "    iart_fol = id2art[row['follower_id']]\n",
    "    artists.at[iart_inf, 'towards'] = artists.at[iart_inf, 'towards'] + [iart_fol]\n",
    "    artists.at[iart_fol, 'from'] = artists.at[iart_inf, 'from'] + [iart_inf]\n",
    "\n",
    "print(artists.head())"
   ]
  },
  {
   "cell_type": "code",
   "execution_count": 9,
   "metadata": {},
   "outputs": [],
   "source": [
    "# print(artists.iloc[489])"
   ]
  },
  {
   "source": [
    "`influenced_numbers` 为一个artist的影响人数"
   ],
   "cell_type": "markdown",
   "metadata": {}
  },
  {
   "cell_type": "code",
   "execution_count": 10,
   "metadata": {},
   "outputs": [
    {
     "output_type": "error",
     "ename": "SyntaxError",
     "evalue": "unexpected EOF while parsing (<ipython-input-10-314dff0e1538>, line 2)",
     "traceback": [
      "\u001b[0;36m  File \u001b[0;32m\"<ipython-input-10-314dff0e1538>\"\u001b[0;36m, line \u001b[0;32m2\u001b[0m\n\u001b[0;31m    for index, artist in artists:\u001b[0m\n\u001b[0m                                 ^\u001b[0m\n\u001b[0;31mSyntaxError\u001b[0m\u001b[0;31m:\u001b[0m unexpected EOF while parsing\n"
     ]
    }
   ],
   "source": [
    "artists['influenced_numbers'] = pd.Series([0] * artists.shape[0])\n",
    "for index, artist in artists:\n",
    "    # 被多少人影响\n",
    "    influencer_num = len(artist['from'])"
   ]
  }
 ]
}