{
 "metadata": {
  "language_info": {
   "codemirror_mode": {
    "name": "ipython",
    "version": 3
   },
   "file_extension": ".py",
   "mimetype": "text/x-python",
   "name": "python",
   "nbconvert_exporter": "python",
   "pygments_lexer": "ipython3",
   "version": "3.8.5-final"
  },
  "orig_nbformat": 2,
  "kernelspec": {
   "name": "python3",
   "display_name": "Python 3",
   "language": "python"
  }
 },
 "nbformat": 4,
 "nbformat_minor": 2,
 "cells": [
  {
   "cell_type": "code",
   "execution_count": 52,
   "metadata": {},
   "outputs": [],
   "source": [
    "import numpy as np \n",
    "import pandas as pd \n",
    "import matplotlib.pyplot as plt \n"
   ]
  },
  {
   "cell_type": "code",
   "execution_count": 53,
   "metadata": {},
   "outputs": [],
   "source": [
    "dfinfluence = pd.read_csv('input/influence_data.csv', encoding='unicode_escape')"
   ]
  },
  {
   "cell_type": "code",
   "execution_count": 54,
   "metadata": {},
   "outputs": [],
   "source": [
    "# print(dfinfluence)"
   ]
  },
  {
   "cell_type": "code",
   "execution_count": 61,
   "metadata": {
    "tags": []
   },
   "outputs": [
    {
     "output_type": "stream",
     "name": "stdout",
     "text": [
      "index= 6644 id= 893383 , names=  The Muffs   The Kills\n",
      "index= 29381 id= 303506 , names=  Usher   Day26\n",
      "index= 37697 id= 957340 , names=  Helloween   Nightwish\n"
     ]
    }
   ],
   "source": [
    "artists = pd.DataFrame(columns= ['name', 'id'])\n",
    "name2art = {}\n",
    "id2art = {}\n",
    "# for index, row in df.iterrows():\n",
    "for index, row in dfinfluence.iterrows():\n",
    "    id = row['influencer_id']\n",
    "    name = row['influencer_name']\n",
    "    # if (id not in id2art) & (name in name2art):\n",
    "    #     print('name:', name)\n",
    "    #     # print(name2art)\n",
    "    #     artist = artists.loc[name2art[name]]\n",
    "    #     print(id, ' ', artist['id'])\n",
    "    # if (id in id2art) & (name not in name2art):\n",
    "    if id in id2art:\n",
    "        # print('id:', id)\n",
    "        artist = artists.loc[id2art[id]]\n",
    "        if artist['name'] != name:\n",
    "            print(\"index=\", index, \"id=\", id, \", names= \", artist['name'], ' ', name)\n",
    "        else:\n",
    "            continue\n",
    "    else:\n",
    "        artists.loc[artists.shape[0]] = [name, id]\n",
    "    # artists.append([name, id], ignore_index=True)\n",
    "    # print(artists)\n",
    "    # name2art[name] = artists.shape[0] - 1\n",
    "        id2art[id] = artists.shape[0] - 1\n",
    "\n",
    "for index, row in dfinfluence.iterrows():\n",
    "    id = row['follower_id']\n",
    "    name = row['follower_name']\n",
    "    if id in id2art:\n",
    "        artist = artists.loc[id2art[id]]\n",
    "        if artist['name'] != name:\n",
    "            print(\"index=\", index, \"id= \", id, \"names= \", artist['name'], ' ', name)\n",
    "        else:\n",
    "            continue\n",
    "    else:\n",
    "        artists.loc[artists.shape[0]] = [name, id]\n",
    "        id2art[id] = artists.shape[0] - 1\n"
   ]
  },
  {
   "cell_type": "code",
   "execution_count": 65,
   "metadata": {},
   "outputs": [
    {
     "output_type": "stream",
     "name": "stdout",
     "text": [
      "influencer_id                 957340\ninfluencer_name            Helloween\ninfluencer_main_genre       Pop/Rock\ninfluencer_active_start         1980\nfollower_id                   868628\nfollower_name              Nightwish\nfollower_main_genre         Pop/Rock\nfollower_active_start           1990\nName: 37697, dtype: object\ninfluencer_id                     771438\ninfluencer_name            Black Sabbath\ninfluencer_main_genre           Pop/Rock\ninfluencer_active_start             1960\nfollower_id                       868616\nfollower_name                 Nickelback\nfollower_main_genre             Pop/Rock\nfollower_active_start               1990\nName: 37687, dtype: object\n"
     ]
    }
   ],
   "source": [
    "dfinfluence_ = dfinfluence.copy()\n",
    "# print(dfinfluence_.loc[6644])\n",
    "dfinfluence_.at[6644, 'influencer_name'] = 'The Muffs'\n",
    "# print(dfinfluence_.loc[29381])\n",
    "dfinfluence_.at[29381, 'influencer_name'] = 'Usher'\n",
    "# print(dfinfluence_.loc[37697])\n",
    "dfinfluence_.at[37697, 'influencer_name'] = 'Helloween'\n",
    "print(dfinfluence_.loc[37697])\n",
    "print(dfinfluence.loc[37687])"
   ]
  },
  {
   "source": [
    "artists 中的`towards`和`from`中的值的类型$\\in$`artists.index`"
   ],
   "cell_type": "markdown",
   "metadata": {}
  },
  {
   "cell_type": "code",
   "execution_count": 77,
   "metadata": {},
   "outputs": [
    {
     "output_type": "stream",
     "name": "stdout",
     "text": [
      "(5603, 4)\n5603\n5603\n5568\n"
     ]
    }
   ],
   "source": [
    "# print(artists)\n",
    "print(artists.shape)\n",
    "print(len(id2art))\n",
    "arr1 = dfinfluence['influencer_id'].unique()\n",
    "# print(len(arr1))\n",
    "# print(arr2)\n",
    "# print(arr1 + arr2)\n",
    "arr2 = dfinfluence['follower_id'].unique()\n",
    "# list(set(a) | set(b))\n",
    "arr = list(set(arr1) | set(arr2))\n",
    "print(len(arr))\n",
    "arr1 = dfinfluence['influencer_name'].unique()\n",
    "arr2 = dfinfluence['follower_name'].unique()\n",
    "arr = list(set(arr1) | set(arr2))\n",
    "print(len(arr))\n"
   ]
  },
  {
   "cell_type": "code",
   "execution_count": 89,
   "metadata": {},
   "outputs": [
    {
     "output_type": "stream",
     "name": "stdout",
     "text": [
      "    A       B\n0  12  [a, b]\n1  23  [c, d]\n"
     ]
    }
   ],
   "source": [
    "df = pd.DataFrame({'A': [12, 23], 'B': [['a', 'b'], ['c', 'd']]})\n",
    "print(df)\n"
   ]
  },
  {
   "cell_type": "code",
   "execution_count": 92,
   "metadata": {
    "tags": []
   },
   "outputs": [
    {
     "output_type": "stream",
     "name": "stdout",
     "text": [
      "                         name      id  \\\n0               The Exploited  759491   \n1                      Tricky   25462   \n2                   Bob Dylan   66915   \n3               Leonard Cohen   71209   \n4                The Gun Club   91438   \n5              Chrissie Hynde  113823   \n6   Crime & the City Solution  132710   \n7                 Lesley Gore  208582   \n8              Massive Attack  378288   \n9                   Nick Cave  397880   \n10              The Raincoats  489999   \n11                 Pretenders  492331   \n12                  Tom Waits  615119   \n13         Marianne Faithfull  651107   \n14                Patti Smith  747445   \n15                Sonic Youth  755156   \n16                   Pere Ubu  838272   \n17                     Pixies  895136   \n18                 The Smiths  899530   \n19                          X  960690   \n\n                                              towards        from  \n0   [3774, 3919, 1382, 1383, 1544, 211, 4530, 1364...      [1676]  \n1   [489, 1626, 3130, 3545, 4169, 2966, 4367, 1539...       [860]  \n2   [489, 678, 42, 2692, 2816, 1888, 648, 276, 462...      [1704]  \n3   [489, 3223, 840, 1889, 3949, 3682, 2657, 6, 24...       [166]  \n4   [489, 947, 3177, 714, 1831, 2954, 17, 1750, 5161]       [166]  \n5                  [489, 1747, 1027, 1028, 949, 4964]      [1342]  \n6                                   [489, 3802, 2930]       [131]  \n7      [489, 2089, 2099, 4348, 770, 1291, 2968, 1607]       [603]  \n8   [489, 3602, 1626, 4000, 3545, 2986, 4273, 3000...      [2174]  \n9   [489, 3012, 1390, 765, 3664, 2442, 1036, 2925,...      [1342]  \n10  [489, 1747, 3268, 1095, 4275, 228, 717, 952, 1...        [67]  \n11  [489, 1079, 3489, 1747, 946, 1026, 947, 1027, ...       [131]  \n12  [489, 1888, 1, 2541, 840, 1889, 3336, 696, 395...        [20]  \n13  [489, 2620, 1027, 3509, 2732, 2438, 4348, 9, 1...       [131]  \n14  [489, 1747, 1987, 841, 1026, 947, 1027, 1028, ...       [131]  \n15  [489, 224, 1323, 631, 3826, 1747, 1179, 3855, ...        [20]  \n16  [489, 3802, 841, 1300, 3012, 4078, 1260, 574, ...        [20]  \n17  [489, 457, 1888, 3802, 1323, 3886, 3284, 842, ...        [19]  \n18  [489, 3792, 1323, 3822, 2199, 1357, 3887, 3890...  [981, 131]  \n19  [489, 2913, 2271, 1358, 22, 1027, 1200, 2488, ...  [1306, 67]  \n"
     ]
    }
   ],
   "source": [
    "# print(id2art)\n",
    "artists['towards'] = pd.Series([[]] * artists.shape[0], index = artists.index)\n",
    "artists['from'] = pd.Series([[]] * artists.shape[0], index = artists.index)\n",
    "# print(pd.Series([[]] * artists.shape[0]))\n",
    "# print(artists.head())\n",
    "# artists.at[1, 'from'] = [1]\n",
    "# print(artists.head())\n",
    "\n",
    "for index, row in dfinfluence_.iterrows():\n",
    "    iart_inf = id2art[row['influencer_id']]\n",
    "    iart_fol = id2art[row['follower_id']]\n",
    "    artists.at[iart_inf, 'towards'] = artists.at[iart_inf, 'towards'] + [iart_fol]\n",
    "    artists.at[iart_fol, 'from'] = artists.at[iart_inf, 'from'] + [iart_inf]\n",
    "\n",
    "print(artists.head())"
   ]
  },
  {
   "cell_type": "code",
   "execution_count": 94,
   "metadata": {},
   "outputs": [],
   "source": [
    "# print(artists.iloc[489])"
   ]
  },
  {
   "source": [
    "`influenced_numbers`"
   ],
   "cell_type": "markdown",
   "metadata": {}
  }
 ]
}